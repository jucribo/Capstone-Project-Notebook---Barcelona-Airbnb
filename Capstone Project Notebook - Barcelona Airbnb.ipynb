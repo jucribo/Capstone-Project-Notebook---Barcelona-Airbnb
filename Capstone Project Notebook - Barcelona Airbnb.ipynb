{
 "cells": [
  {
   "cell_type": "markdown",
   "metadata": {},
   "source": [
    "# This notebook will be mainly used for the Capstone Project, about Airbnb at Barcelona (ES)"
   ]
  },
  {
   "cell_type": "markdown",
   "metadata": {},
   "source": [
    "## 1. Introduction"
   ]
  },
  {
   "cell_type": "markdown",
   "metadata": {},
   "source": [
    "### A description of the problem and the final objective"
   ]
  },
  {
   "cell_type": "markdown",
   "metadata": {},
   "source": [
    "Since 2008, guests and hosts have used Airbnb to expand on traveling possibilities and present more unique, personalized way of experiencing the world. This dataset describes the listing activity and metrics in Barcelona, ES for 2020.\n",
    "The <b> objective </b> is explore and clustering this dataset, in a way that I can identify the best places to stay at Barcelona based on venues around the accommodate. In this notebook I will explore interactions and hidden insights from the available dataset."
   ]
  },
  {
   "cell_type": "markdown",
   "metadata": {},
   "source": [
    "# 2. Data"
   ]
  },
  {
   "cell_type": "markdown",
   "metadata": {},
   "source": [
    "### A description of the data and how it will be used to solve the problem"
   ]
  },
  {
   "cell_type": "markdown",
   "metadata": {},
   "source": [
    "The data includes all needed information to find out more about hosts, geographical availability, reviews and more. \n",
    "The dataset has around 20.858 rows and 106 columns, but I will just use 18 that I think it's more relevant. I will combine this dataset with foursquare information about venues in the neighbourhood to find the best place to stay."
   ]
  },
  {
   "cell_type": "markdown",
   "metadata": {},
   "source": [
    "<b> Source: </b> http://data.insideairbnb.com/spain/catalonia/barcelona/2020-05-11/data/listings.csv.gz"
   ]
  },
  {
   "cell_type": "code",
   "execution_count": 1,
   "metadata": {},
   "outputs": [],
   "source": [
    "import numpy as np # library to handle data in a vectorized manner\n",
    "import pandas as pd # library for data analsysis\n",
    "pd.set_option('display.max_columns', None)\n",
    "pd.set_option('display.max_rows', None)"
   ]
  },
  {
   "cell_type": "code",
   "execution_count": 8,
   "metadata": {},
   "outputs": [],
   "source": [
    "airbnb_df_complete = pd.read_csv('listings.csv')"
   ]
  },
  {
   "cell_type": "code",
   "execution_count": 3,
   "metadata": {},
   "outputs": [
    {
     "data": {
      "text/plain": [
       "(20858, 106)"
      ]
     },
     "execution_count": 3,
     "metadata": {},
     "output_type": "execute_result"
    }
   ],
   "source": [
    "# shape of the dataset\n",
    "airbnb_df_complete.shape"
   ]
  },
  {
   "cell_type": "markdown",
   "metadata": {},
   "source": [
    "To achieve my goals, I will use just 18 columns that have the essential data about, location, price, score rating, score rating to location, type of room and geographic location."
   ]
  },
  {
   "cell_type": "code",
   "execution_count": 4,
   "metadata": {},
   "outputs": [],
   "source": [
    "airbnb_df = airbnb_df_complete[['id','listing_url','name','host_is_superhost','neighbourhood','zipcode','latitude','longitude',\n",
    "'property_type','room_type','accommodates','bathrooms','bedrooms','beds','bed_type','price','review_scores_rating','review_scores_location']]"
   ]
  },
  {
   "cell_type": "code",
   "execution_count": 5,
   "metadata": {},
   "outputs": [
    {
     "data": {
      "text/html": [
       "<div>\n",
       "<style scoped>\n",
       "    .dataframe tbody tr th:only-of-type {\n",
       "        vertical-align: middle;\n",
       "    }\n",
       "\n",
       "    .dataframe tbody tr th {\n",
       "        vertical-align: top;\n",
       "    }\n",
       "\n",
       "    .dataframe thead th {\n",
       "        text-align: right;\n",
       "    }\n",
       "</style>\n",
       "<table border=\"1\" class=\"dataframe\">\n",
       "  <thead>\n",
       "    <tr style=\"text-align: right;\">\n",
       "      <th></th>\n",
       "      <th>id</th>\n",
       "      <th>listing_url</th>\n",
       "      <th>name</th>\n",
       "      <th>host_is_superhost</th>\n",
       "      <th>neighbourhood</th>\n",
       "      <th>zipcode</th>\n",
       "      <th>latitude</th>\n",
       "      <th>longitude</th>\n",
       "      <th>property_type</th>\n",
       "      <th>room_type</th>\n",
       "      <th>accommodates</th>\n",
       "      <th>bathrooms</th>\n",
       "      <th>bedrooms</th>\n",
       "      <th>beds</th>\n",
       "      <th>bed_type</th>\n",
       "      <th>price</th>\n",
       "      <th>review_scores_rating</th>\n",
       "      <th>review_scores_location</th>\n",
       "    </tr>\n",
       "  </thead>\n",
       "  <tbody>\n",
       "    <tr>\n",
       "      <th>0</th>\n",
       "      <td>21974</td>\n",
       "      <td>https://www.airbnb.com/rooms/21974</td>\n",
       "      <td>Comf. double room/private bathroom</td>\n",
       "      <td>f</td>\n",
       "      <td>El Gòtic</td>\n",
       "      <td>08002</td>\n",
       "      <td>41.38077</td>\n",
       "      <td>2.17551</td>\n",
       "      <td>Apartment</td>\n",
       "      <td>Private room</td>\n",
       "      <td>2</td>\n",
       "      <td>1.0</td>\n",
       "      <td>1.0</td>\n",
       "      <td>1.0</td>\n",
       "      <td>Real Bed</td>\n",
       "      <td>$60.00</td>\n",
       "      <td>100.0</td>\n",
       "      <td>10.0</td>\n",
       "    </tr>\n",
       "    <tr>\n",
       "      <th>1</th>\n",
       "      <td>23197</td>\n",
       "      <td>https://www.airbnb.com/rooms/23197</td>\n",
       "      <td>Forum DeLuxe 5 mins Walk  To CCIB Center &amp; Sea★</td>\n",
       "      <td>t</td>\n",
       "      <td>Sant Martí</td>\n",
       "      <td>08930</td>\n",
       "      <td>41.41291</td>\n",
       "      <td>2.22063</td>\n",
       "      <td>Apartment</td>\n",
       "      <td>Entire home/apt</td>\n",
       "      <td>6</td>\n",
       "      <td>2.0</td>\n",
       "      <td>3.0</td>\n",
       "      <td>5.0</td>\n",
       "      <td>Real Bed</td>\n",
       "      <td>$220.00</td>\n",
       "      <td>95.0</td>\n",
       "      <td>9.0</td>\n",
       "    </tr>\n",
       "  </tbody>\n",
       "</table>\n",
       "</div>"
      ],
      "text/plain": [
       "      id                         listing_url  \\\n",
       "0  21974  https://www.airbnb.com/rooms/21974   \n",
       "1  23197  https://www.airbnb.com/rooms/23197   \n",
       "\n",
       "                                              name host_is_superhost  \\\n",
       "0               Comf. double room/private bathroom                 f   \n",
       "1  Forum DeLuxe 5 mins Walk  To CCIB Center & Sea★                 t   \n",
       "\n",
       "  neighbourhood zipcode  latitude  longitude property_type        room_type  \\\n",
       "0      El Gòtic   08002  41.38077    2.17551     Apartment     Private room   \n",
       "1    Sant Martí   08930  41.41291    2.22063     Apartment  Entire home/apt   \n",
       "\n",
       "   accommodates  bathrooms  bedrooms  beds  bed_type    price  \\\n",
       "0             2        1.0       1.0   1.0  Real Bed   $60.00   \n",
       "1             6        2.0       3.0   5.0  Real Bed  $220.00   \n",
       "\n",
       "   review_scores_rating  review_scores_location  \n",
       "0                 100.0                    10.0  \n",
       "1                  95.0                     9.0  "
      ]
     },
     "execution_count": 5,
     "metadata": {},
     "output_type": "execute_result"
    }
   ],
   "source": [
    "airbnb_df.head(2)"
   ]
  },
  {
   "cell_type": "code",
   "execution_count": 6,
   "metadata": {},
   "outputs": [
    {
     "data": {
      "text/plain": [
       "(20858, 18)"
      ]
     },
     "execution_count": 6,
     "metadata": {},
     "output_type": "execute_result"
    }
   ],
   "source": [
    "airbnb_df.shape"
   ]
  },
  {
   "cell_type": "code",
   "execution_count": 7,
   "metadata": {},
   "outputs": [
    {
     "name": "stdout",
     "output_type": "stream",
     "text": [
      "<class 'pandas.core.frame.DataFrame'>\n",
      "RangeIndex: 20858 entries, 0 to 20857\n",
      "Data columns (total 18 columns):\n",
      " #   Column                  Non-Null Count  Dtype  \n",
      "---  ------                  --------------  -----  \n",
      " 0   id                      20858 non-null  int64  \n",
      " 1   listing_url             20858 non-null  object \n",
      " 2   name                    20843 non-null  object \n",
      " 3   host_is_superhost       20852 non-null  object \n",
      " 4   neighbourhood           20847 non-null  object \n",
      " 5   zipcode                 20307 non-null  object \n",
      " 6   latitude                20858 non-null  float64\n",
      " 7   longitude               20858 non-null  float64\n",
      " 8   property_type           20858 non-null  object \n",
      " 9   room_type               20858 non-null  object \n",
      " 10  accommodates            20858 non-null  int64  \n",
      " 11  bathrooms               20854 non-null  float64\n",
      " 12  bedrooms                20832 non-null  float64\n",
      " 13  beds                    20496 non-null  float64\n",
      " 14  bed_type                20857 non-null  object \n",
      " 15  price                   20858 non-null  object \n",
      " 16  review_scores_rating    15277 non-null  float64\n",
      " 17  review_scores_location  15265 non-null  float64\n",
      "dtypes: float64(7), int64(2), object(9)\n",
      "memory usage: 2.9+ MB\n"
     ]
    }
   ],
   "source": [
    "airbnb_df.info()"
   ]
  }
 ],
 "metadata": {
  "kernelspec": {
   "display_name": "Python 3",
   "language": "python",
   "name": "python3"
  },
  "language_info": {
   "codemirror_mode": {
    "name": "ipython",
    "version": 3
   },
   "file_extension": ".py",
   "mimetype": "text/x-python",
   "name": "python",
   "nbconvert_exporter": "python",
   "pygments_lexer": "ipython3",
   "version": "3.7.4"
  }
 },
 "nbformat": 4,
 "nbformat_minor": 2
}
